{
 "cells": [
  {
   "attachments": {},
   "cell_type": "markdown",
   "metadata": {},
   "source": [
    "<h1>Results</h1>"
   ]
  },
  {
   "cell_type": "code",
   "execution_count": 2,
   "metadata": {},
   "outputs": [],
   "source": [
    "#import packages and define the model to sample from\n",
    "from math import sqrt\n",
    "import statistics\n",
    "from collections import deque\n",
    "from numpy.random import Generator, PCG64\n",
    "import random\n",
    "import numpy as np\n",
    "import pickle\n",
    "import os\n",
    "from scipy import optimize\n",
    "import matplotlib.pyplot as plt\n",
    "font = {\n",
    "        'weight' : 'bold',\n",
    "        'size'   : 14}\n",
    "plt.rc('font', **font)"
   ]
  },
  {
   "attachments": {},
   "cell_type": "markdown",
   "metadata": {},
   "source": [
    "ABS"
   ]
  },
  {
   "cell_type": "code",
   "execution_count": 3,
   "metadata": {},
   "outputs": [],
   "source": [
    "folder_path = \"ex_ABS\"\n",
    "\n",
    "file_path = os.path.join(folder_path, \"i_arr.pkl\")\n",
    "\n",
    "with open(file_path, 'rb') as f:\n",
    "    i_arr_abs = pickle.load(f)\n",
    "\n",
    "# specify the path to the pickle file\n",
    "file_path = os.path.join(folder_path, \"Dhat_med.pkl\")\n",
    "\n",
    "# open the file and load the object\n",
    "with open(file_path, 'rb') as f:\n",
    "    Dhat_abs_med = pickle.load(f)\n",
    "\n",
    "file_path = os.path.join(folder_path, \"Dhat_min.pkl\")\n",
    "\n",
    "with open(file_path, 'rb') as f:\n",
    "    Dhat_abs_min = pickle.load(f)\n",
    "\n",
    "file_path = os.path.join(folder_path, \"Dhat_max.pkl\")\n",
    "\n",
    "with open(file_path, 'rb') as f:\n",
    "    Dhat_abs_max = pickle.load(f)\n",
    "\n",
    "file_path = os.path.join(folder_path, \"Dhat_10.pkl\")\n",
    "\n",
    "with open(file_path, 'rb') as f:\n",
    "    Dhat_abs_10 = pickle.load(f)\n",
    "\n",
    "file_path = os.path.join(folder_path, \"Dhat_90.pkl\")\n",
    "\n",
    "with open(file_path, 'rb') as f:\n",
    "    Dhat_abs_90 = pickle.load(f)\n",
    "\n",
    "file_path = os.path.join(folder_path, \"Dhat_q1.pkl\")\n",
    "\n",
    "with open(file_path, 'rb') as f:\n",
    "    Dhat_abs_q1 = pickle.load(f)\n",
    "\n",
    "file_path = os.path.join(folder_path, \"Dhat_q3.pkl\")\n",
    "\n",
    "with open(file_path, 'rb') as f:\n",
    "    Dhat_abs_q3 = pickle.load(f)"
   ]
  },
  {
   "attachments": {},
   "cell_type": "markdown",
   "metadata": {},
   "source": [
    "SR"
   ]
  },
  {
   "cell_type": "code",
   "execution_count": 4,
   "metadata": {},
   "outputs": [],
   "source": [
    "folder_path = \"ex_SR\"\n",
    "\n",
    "file_path = os.path.join(folder_path, \"i_arr.pkl\")\n",
    "\n",
    "with open(file_path, 'rb') as f:\n",
    "    i_arr_sr = pickle.load(f)\n",
    "\n",
    "# specify the path to the pickle file\n",
    "file_path = os.path.join(folder_path, \"Dhat_med.pkl\")\n",
    "\n",
    "# open the file and load the object\n",
    "with open(file_path, 'rb') as f:\n",
    "    Dhat_sr_med = pickle.load(f)\n",
    "\n",
    "file_path = os.path.join(folder_path, \"Dhat_min.pkl\")\n",
    "\n",
    "with open(file_path, 'rb') as f:\n",
    "    Dhat_sr_min = pickle.load(f)\n",
    "\n",
    "file_path = os.path.join(folder_path, \"Dhat_max.pkl\")\n",
    "\n",
    "with open(file_path, 'rb') as f:\n",
    "    Dhat_sr_max = pickle.load(f)\n",
    "\n",
    "file_path = os.path.join(folder_path, \"Dhat_10.pkl\")\n",
    "\n",
    "with open(file_path, 'rb') as f:\n",
    "    Dhat_sr_10 = pickle.load(f)\n",
    "\n",
    "file_path = os.path.join(folder_path, \"Dhat_90.pkl\")\n",
    "\n",
    "with open(file_path, 'rb') as f:\n",
    "    Dhat_sr_90 = pickle.load(f)\n",
    "\n",
    "file_path = os.path.join(folder_path, \"Dhat_q1.pkl\")\n",
    "\n",
    "with open(file_path, 'rb') as f:\n",
    "    Dhat_sr_q1 = pickle.load(f)\n",
    "\n",
    "file_path = os.path.join(folder_path, \"Dhat_q3.pkl\")\n",
    "\n",
    "with open(file_path, 'rb') as f:\n",
    "    Dhat_sr_q3 = pickle.load(f)"
   ]
  },
  {
   "attachments": {},
   "cell_type": "markdown",
   "metadata": {},
   "source": [
    "R"
   ]
  },
  {
   "cell_type": "code",
   "execution_count": 5,
   "metadata": {},
   "outputs": [],
   "source": [
    "folder_path = \"ex_R\"\n",
    "\n",
    "file_path = os.path.join(folder_path, \"i_arr.pkl\")\n",
    "\n",
    "with open(file_path, 'rb') as f:\n",
    "    i_arr_r = pickle.load(f)\n",
    "\n",
    "# specify the path to the pickle file\n",
    "file_path = os.path.join(folder_path, \"Dhat_med.pkl\")\n",
    "\n",
    "# open the file and load the object\n",
    "with open(file_path, 'rb') as f:\n",
    "    Dhat_r_med = pickle.load(f)\n",
    "\n",
    "file_path = os.path.join(folder_path, \"Dhat_min.pkl\")\n",
    "\n",
    "with open(file_path, 'rb') as f:\n",
    "    Dhat_r_min = pickle.load(f)\n",
    "\n",
    "file_path = os.path.join(folder_path, \"Dhat_max.pkl\")\n",
    "\n",
    "with open(file_path, 'rb') as f:\n",
    "    Dhat_r_max = pickle.load(f)\n",
    "\n",
    "file_path = os.path.join(folder_path, \"Dhat_10.pkl\")\n",
    "\n",
    "with open(file_path, 'rb') as f:\n",
    "    Dhat_r_10 = pickle.load(f)\n",
    "\n",
    "file_path = os.path.join(folder_path, \"Dhat_90.pkl\")\n",
    "\n",
    "with open(file_path, 'rb') as f:\n",
    "    Dhat_r_90 = pickle.load(f)\n",
    "\n",
    "file_path = os.path.join(folder_path, \"Dhat_q1.pkl\")\n",
    "\n",
    "with open(file_path, 'rb') as f:\n",
    "    Dhat_r_q1 = pickle.load(f)\n",
    "\n",
    "file_path = os.path.join(folder_path, \"Dhat_q3.pkl\")\n",
    "\n",
    "with open(file_path, 'rb') as f:\n",
    "    Dhat_r_q3 = pickle.load(f)"
   ]
  },
  {
   "attachments": {},
   "cell_type": "markdown",
   "metadata": {},
   "source": [
    "G"
   ]
  },
  {
   "cell_type": "code",
   "execution_count": 6,
   "metadata": {},
   "outputs": [],
   "source": [
    "folder_path = \"ex_G\"\n",
    "\n",
    "file_path = os.path.join(folder_path, \"i_arr.pkl\")\n",
    "\n",
    "with open(file_path, 'rb') as f:\n",
    "    i_arr_g = pickle.load(f)\n",
    "\n",
    "# specify the path to the pickle file\n",
    "file_path = os.path.join(folder_path, \"Dhat_med.pkl\")\n",
    "\n",
    "# open the file and load the object\n",
    "with open(file_path, 'rb') as f:\n",
    "    Dhat_g_med = pickle.load(f)\n",
    "\n",
    "file_path = os.path.join(folder_path, \"Dhat_min.pkl\")\n",
    "\n",
    "with open(file_path, 'rb') as f:\n",
    "    Dhat_g_min = pickle.load(f)\n",
    "\n",
    "file_path = os.path.join(folder_path, \"Dhat_max.pkl\")\n",
    "\n",
    "with open(file_path, 'rb') as f:\n",
    "    Dhat_g_max = pickle.load(f)\n",
    "\n",
    "file_path = os.path.join(folder_path, \"Dhat_10.pkl\")\n",
    "\n",
    "with open(file_path, 'rb') as f:\n",
    "    Dhat_g_10 = pickle.load(f)\n",
    "\n",
    "file_path = os.path.join(folder_path, \"Dhat_90.pkl\")\n",
    "\n",
    "with open(file_path, 'rb') as f:\n",
    "    Dhat_g_90 = pickle.load(f)\n",
    "\n",
    "file_path = os.path.join(folder_path, \"Dhat_q1.pkl\")\n",
    "\n",
    "with open(file_path, 'rb') as f:\n",
    "    Dhat_g_q1 = pickle.load(f)\n",
    "\n",
    "file_path = os.path.join(folder_path, \"Dhat_q3.pkl\")\n",
    "\n",
    "with open(file_path, 'rb') as f:\n",
    "    Dhat_g_q3 = pickle.load(f)"
   ]
  },
  {
   "attachments": {},
   "cell_type": "markdown",
   "metadata": {},
   "source": [
    "U"
   ]
  },
  {
   "cell_type": "code",
   "execution_count": 7,
   "metadata": {},
   "outputs": [],
   "source": [
    "folder_path = \"ex_U\"\n",
    "\n",
    "file_path = os.path.join(folder_path, \"i_arr.pkl\")\n",
    "\n",
    "with open(file_path, 'rb') as f:\n",
    "    i_arr_u = pickle.load(f)\n",
    "\n",
    "# specify the path to the pickle file\n",
    "file_path = os.path.join(folder_path, \"Dhat_med.pkl\")\n",
    "\n",
    "# open the file and load the object\n",
    "with open(file_path, 'rb') as f:\n",
    "    Dhat_u_med = pickle.load(f)\n",
    "\n",
    "file_path = os.path.join(folder_path, \"Dhat_min.pkl\")\n",
    "\n",
    "with open(file_path, 'rb') as f:\n",
    "    Dhat_u_min = pickle.load(f)\n",
    "\n",
    "file_path = os.path.join(folder_path, \"Dhat_max.pkl\")\n",
    "\n",
    "with open(file_path, 'rb') as f:\n",
    "    Dhat_u_max = pickle.load(f)\n",
    "\n",
    "file_path = os.path.join(folder_path, \"Dhat_10.pkl\")\n",
    "\n",
    "with open(file_path, 'rb') as f:\n",
    "    Dhat_u_10 = pickle.load(f)\n",
    "\n",
    "file_path = os.path.join(folder_path, \"Dhat_90.pkl\")\n",
    "\n",
    "with open(file_path, 'rb') as f:\n",
    "    Dhat_u_90 = pickle.load(f)\n",
    "\n",
    "file_path = os.path.join(folder_path, \"Dhat_q1.pkl\")\n",
    "\n",
    "with open(file_path, 'rb') as f:\n",
    "    Dhat_u_q1 = pickle.load(f)\n",
    "\n",
    "file_path = os.path.join(folder_path, \"Dhat_q3.pkl\")\n",
    "\n",
    "with open(file_path, 'rb') as f:\n",
    "    Dhat_u_q3 = pickle.load(f)\n",
    "\n"
   ]
  },
  {
   "cell_type": "code",
   "execution_count": 8,
   "metadata": {},
   "outputs": [],
   "source": [
    "folder_path = \"ex_ABS\"\n",
    "file_path = os.path.join(folder_path, \"std_med.pkl\")\n",
    "\n",
    "with open(file_path, 'rb') as f:\n",
    "    sd_abs = pickle.load(f)\n",
    "\n",
    "folder_path = \"ex_SR\"\n",
    "file_path = os.path.join(folder_path, \"std_med.pkl\")\n",
    "\n",
    "with open(file_path, 'rb') as f:\n",
    "    sd_sr = pickle.load(f)\n",
    "\n",
    "folder_path = \"ex_R\"\n",
    "file_path = os.path.join(folder_path, \"std_med.pkl\")\n",
    "\n",
    "with open(file_path, 'rb') as f:\n",
    "    sd_r = pickle.load(f)\n",
    "\n",
    "folder_path = \"ex_G\"\n",
    "file_path = os.path.join(folder_path, \"std_med.pkl\")\n",
    "\n",
    "with open(file_path, 'rb') as f:\n",
    "    sd_g = pickle.load(f)\n",
    "\n",
    "folder_path = \"ex_U\"\n",
    "file_path = os.path.join(folder_path, \"std_med.pkl\")\n",
    "\n",
    "with open(file_path, 'rb') as f:\n",
    "    sd_u = pickle.load(f)"
   ]
  },
  {
   "attachments": {},
   "cell_type": "markdown",
   "metadata": {},
   "source": [
    "Plots"
   ]
  },
  {
   "cell_type": "code",
   "execution_count": 23,
   "metadata": {},
   "outputs": [
    {
     "data": {
      "text/plain": [
       "<matplotlib.legend.Legend at 0x7fc8a1655280>"
      ]
     },
     "execution_count": 23,
     "metadata": {},
     "output_type": "execute_result"
    },
    {
     "data": {
      "image/png": "[encoded data removed]",
      "text/plain": [
       "<Figure size 432x288 with 1 Axes>"
      ]
     },
     "metadata": {
      "needs_background": "light"
     },
     "output_type": "display_data"
    }
   ],
   "source": [
    "plt.figure(1)\n",
    "#Plot median of st. dev. at each iteration\n",
    "plt.plot(i_arr_abs,sd_abs, label = 'ABS')\n",
    "plt.plot(i_arr_sr,sd_sr, label = 'SR')\n",
    "plt.plot(i_arr_r,sd_r, label = 'R')\n",
    "plt.plot(i_arr_g,sd_g, label = 'G')\n",
    "plt.plot(i_arr_u,sd_u, label = 'U')\n",
    "plt.axhline(y=(10), color='gray', linestyle='--')\n",
    "plt.axhline(y=(25), color='gray', linestyle='--')\n",
    "plt.axhline(y=(17), color='gray', linestyle='--')\n",
    "\n",
    "plt.yscale('log')\n",
    "plt.ylim([2,10**2])\n",
    "plt.ylabel('Standard Deviation estimate (km)') # LPS: As there is only one variable, this is the variance of this variable. \n",
    "plt.xlabel('Iteration')  \n",
    "plt.xlim(0,1000)\n",
    "plt.legend(loc=\"upper right\")"
   ]
  },
  {
   "attachments": {},
   "cell_type": "markdown",
   "metadata": {},
   "source": [
    "Note that random sampling is obscured by greedy as they seem to have the same medians. Individual investigation of min-max value reveals that the algorithm runs are different, however."
   ]
  }
 ],
 "metadata": {
  "kernelspec": {
   "display_name": "Python 3.8.8 ('base')",
   "language": "python",
   "name": "python3"
  },
  "language_info": {
   "codemirror_mode": {
    "name": "ipython",
    "version": 3
   },
   "file_extension": ".py",
   "mimetype": "text/x-python",
   "name": "python",
   "nbconvert_exporter": "python",
   "pygments_lexer": "ipython3",
   "version": "3.8.8"
  },
  "vscode": {
   "interpreter": {
    "hash": "d39120b50f32fc44b3199620c90c2d329c8ff217f79acc34feb84df6352e1c6a"
   }
  }
 },
 "nbformat": 4,
 "nbformat_minor": 2
}
